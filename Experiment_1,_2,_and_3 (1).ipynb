{
  "nbformat": 4,
  "nbformat_minor": 0,
  "metadata": {
    "colab": {
      "provenance": [],
      "gpuType": "T4"
    },
    "kernelspec": {
      "name": "python3",
      "display_name": "Python 3"
    },
    "language_info": {
      "name": "python"
    },
    "accelerator": "GPU"
  },
  "cells": [
    {
      "cell_type": "markdown",
      "source": [
        "# Experiment 1: Optimize AUROC using AUCMLoss + PESG"
      ],
      "metadata": {
        "id": "JGtCeP3qkKRQ"
      }
    },
    {
      "cell_type": "markdown",
      "source": [],
      "metadata": {
        "id": "8i4gNzKbnsCf"
      }
    },
    {
      "cell_type": "code",
      "source": [
        "# install libauc\n",
        "!pip install -U libauc"
      ],
      "metadata": {
        "colab": {
          "base_uri": "https://localhost:8080/"
        },
        "collapsed": true,
        "id": "9nawXYOjm4qZ",
        "outputId": "4665fdf1-d036-40fe-ab2f-57ec9c489262"
      },
      "execution_count": 1,
      "outputs": [
        {
          "output_type": "stream",
          "name": "stdout",
          "text": [
            "Collecting libauc\n",
            "  Downloading libauc-1.4.0-py3-none-any.whl.metadata (8.1 kB)\n",
            "Requirement already satisfied: torch in /usr/local/lib/python3.11/dist-packages (from libauc) (2.6.0+cu124)\n",
            "Requirement already satisfied: torchvision in /usr/local/lib/python3.11/dist-packages (from libauc) (0.21.0+cu124)\n",
            "Requirement already satisfied: numpy in /usr/local/lib/python3.11/dist-packages (from libauc) (2.0.2)\n",
            "Requirement already satisfied: tqdm in /usr/local/lib/python3.11/dist-packages (from libauc) (4.67.1)\n",
            "Requirement already satisfied: scipy in /usr/local/lib/python3.11/dist-packages (from libauc) (1.15.3)\n",
            "Requirement already satisfied: pandas in /usr/local/lib/python3.11/dist-packages (from libauc) (2.2.2)\n",
            "Requirement already satisfied: Pillow in /usr/local/lib/python3.11/dist-packages (from libauc) (11.2.1)\n",
            "Requirement already satisfied: scikit-learn in /usr/local/lib/python3.11/dist-packages (from libauc) (1.6.1)\n",
            "Requirement already satisfied: opencv-python in /usr/local/lib/python3.11/dist-packages (from libauc) (4.11.0.86)\n",
            "Collecting torch-geometric (from libauc)\n",
            "  Downloading torch_geometric-2.6.1-py3-none-any.whl.metadata (63 kB)\n",
            "\u001b[2K     \u001b[90m━━━━━━━━━━━━━━━━━━━━━━━━━━━━━━━━━━━━━━━━\u001b[0m \u001b[32m63.1/63.1 kB\u001b[0m \u001b[31m3.0 MB/s\u001b[0m eta \u001b[36m0:00:00\u001b[0m\n",
            "\u001b[?25hCollecting ogb (from libauc)\n",
            "  Downloading ogb-1.3.6-py3-none-any.whl.metadata (6.2 kB)\n",
            "Collecting webdataset (from libauc)\n",
            "  Downloading webdataset-1.0.2-py3-none-any.whl.metadata (12 kB)\n",
            "Requirement already satisfied: six>=1.12.0 in /usr/local/lib/python3.11/dist-packages (from ogb->libauc) (1.17.0)\n",
            "Requirement already satisfied: urllib3>=1.24.0 in /usr/local/lib/python3.11/dist-packages (from ogb->libauc) (2.4.0)\n",
            "Collecting outdated>=0.2.0 (from ogb->libauc)\n",
            "  Downloading outdated-0.2.2-py2.py3-none-any.whl.metadata (4.7 kB)\n",
            "Requirement already satisfied: python-dateutil>=2.8.2 in /usr/local/lib/python3.11/dist-packages (from pandas->libauc) (2.9.0.post0)\n",
            "Requirement already satisfied: pytz>=2020.1 in /usr/local/lib/python3.11/dist-packages (from pandas->libauc) (2025.2)\n",
            "Requirement already satisfied: tzdata>=2022.7 in /usr/local/lib/python3.11/dist-packages (from pandas->libauc) (2025.2)\n",
            "Requirement already satisfied: joblib>=1.2.0 in /usr/local/lib/python3.11/dist-packages (from scikit-learn->libauc) (1.5.1)\n",
            "Requirement already satisfied: threadpoolctl>=3.1.0 in /usr/local/lib/python3.11/dist-packages (from scikit-learn->libauc) (3.6.0)\n",
            "Requirement already satisfied: filelock in /usr/local/lib/python3.11/dist-packages (from torch->libauc) (3.18.0)\n",
            "Requirement already satisfied: typing-extensions>=4.10.0 in /usr/local/lib/python3.11/dist-packages (from torch->libauc) (4.14.1)\n",
            "Requirement already satisfied: networkx in /usr/local/lib/python3.11/dist-packages (from torch->libauc) (3.5)\n",
            "Requirement already satisfied: jinja2 in /usr/local/lib/python3.11/dist-packages (from torch->libauc) (3.1.6)\n",
            "Requirement already satisfied: fsspec in /usr/local/lib/python3.11/dist-packages (from torch->libauc) (2025.3.2)\n",
            "Collecting nvidia-cuda-nvrtc-cu12==12.4.127 (from torch->libauc)\n",
            "  Downloading nvidia_cuda_nvrtc_cu12-12.4.127-py3-none-manylinux2014_x86_64.whl.metadata (1.5 kB)\n",
            "Collecting nvidia-cuda-runtime-cu12==12.4.127 (from torch->libauc)\n",
            "  Downloading nvidia_cuda_runtime_cu12-12.4.127-py3-none-manylinux2014_x86_64.whl.metadata (1.5 kB)\n",
            "Collecting nvidia-cuda-cupti-cu12==12.4.127 (from torch->libauc)\n",
            "  Downloading nvidia_cuda_cupti_cu12-12.4.127-py3-none-manylinux2014_x86_64.whl.metadata (1.6 kB)\n",
            "Collecting nvidia-cudnn-cu12==9.1.0.70 (from torch->libauc)\n",
            "  Downloading nvidia_cudnn_cu12-9.1.0.70-py3-none-manylinux2014_x86_64.whl.metadata (1.6 kB)\n",
            "Collecting nvidia-cublas-cu12==12.4.5.8 (from torch->libauc)\n",
            "  Downloading nvidia_cublas_cu12-12.4.5.8-py3-none-manylinux2014_x86_64.whl.metadata (1.5 kB)\n",
            "Collecting nvidia-cufft-cu12==11.2.1.3 (from torch->libauc)\n",
            "  Downloading nvidia_cufft_cu12-11.2.1.3-py3-none-manylinux2014_x86_64.whl.metadata (1.5 kB)\n",
            "Collecting nvidia-curand-cu12==10.3.5.147 (from torch->libauc)\n",
            "  Downloading nvidia_curand_cu12-10.3.5.147-py3-none-manylinux2014_x86_64.whl.metadata (1.5 kB)\n",
            "Collecting nvidia-cusolver-cu12==11.6.1.9 (from torch->libauc)\n",
            "  Downloading nvidia_cusolver_cu12-11.6.1.9-py3-none-manylinux2014_x86_64.whl.metadata (1.6 kB)\n",
            "Collecting nvidia-cusparse-cu12==12.3.1.170 (from torch->libauc)\n",
            "  Downloading nvidia_cusparse_cu12-12.3.1.170-py3-none-manylinux2014_x86_64.whl.metadata (1.6 kB)\n",
            "Requirement already satisfied: nvidia-cusparselt-cu12==0.6.2 in /usr/local/lib/python3.11/dist-packages (from torch->libauc) (0.6.2)\n",
            "Requirement already satisfied: nvidia-nccl-cu12==2.21.5 in /usr/local/lib/python3.11/dist-packages (from torch->libauc) (2.21.5)\n",
            "Requirement already satisfied: nvidia-nvtx-cu12==12.4.127 in /usr/local/lib/python3.11/dist-packages (from torch->libauc) (12.4.127)\n",
            "Collecting nvidia-nvjitlink-cu12==12.4.127 (from torch->libauc)\n",
            "  Downloading nvidia_nvjitlink_cu12-12.4.127-py3-none-manylinux2014_x86_64.whl.metadata (1.5 kB)\n",
            "Requirement already satisfied: triton==3.2.0 in /usr/local/lib/python3.11/dist-packages (from torch->libauc) (3.2.0)\n",
            "Requirement already satisfied: sympy==1.13.1 in /usr/local/lib/python3.11/dist-packages (from torch->libauc) (1.13.1)\n",
            "Requirement already satisfied: mpmath<1.4,>=1.1.0 in /usr/local/lib/python3.11/dist-packages (from sympy==1.13.1->torch->libauc) (1.3.0)\n",
            "Requirement already satisfied: aiohttp in /usr/local/lib/python3.11/dist-packages (from torch-geometric->libauc) (3.11.15)\n",
            "Requirement already satisfied: psutil>=5.8.0 in /usr/local/lib/python3.11/dist-packages (from torch-geometric->libauc) (5.9.5)\n",
            "Requirement already satisfied: pyparsing in /usr/local/lib/python3.11/dist-packages (from torch-geometric->libauc) (3.2.3)\n",
            "Requirement already satisfied: requests in /usr/local/lib/python3.11/dist-packages (from torch-geometric->libauc) (2.32.3)\n",
            "Collecting braceexpand (from webdataset->libauc)\n",
            "  Downloading braceexpand-0.1.7-py2.py3-none-any.whl.metadata (3.0 kB)\n",
            "Requirement already satisfied: pyyaml in /usr/local/lib/python3.11/dist-packages (from webdataset->libauc) (6.0.2)\n",
            "Requirement already satisfied: setuptools>=44 in /usr/local/lib/python3.11/dist-packages (from outdated>=0.2.0->ogb->libauc) (75.2.0)\n",
            "Collecting littleutils (from outdated>=0.2.0->ogb->libauc)\n",
            "  Downloading littleutils-0.2.4-py3-none-any.whl.metadata (679 bytes)\n",
            "Requirement already satisfied: aiohappyeyeballs>=2.3.0 in /usr/local/lib/python3.11/dist-packages (from aiohttp->torch-geometric->libauc) (2.6.1)\n",
            "Requirement already satisfied: aiosignal>=1.1.2 in /usr/local/lib/python3.11/dist-packages (from aiohttp->torch-geometric->libauc) (1.4.0)\n",
            "Requirement already satisfied: attrs>=17.3.0 in /usr/local/lib/python3.11/dist-packages (from aiohttp->torch-geometric->libauc) (25.3.0)\n",
            "Requirement already satisfied: frozenlist>=1.1.1 in /usr/local/lib/python3.11/dist-packages (from aiohttp->torch-geometric->libauc) (1.7.0)\n",
            "Requirement already satisfied: multidict<7.0,>=4.5 in /usr/local/lib/python3.11/dist-packages (from aiohttp->torch-geometric->libauc) (6.6.3)\n",
            "Requirement already satisfied: propcache>=0.2.0 in /usr/local/lib/python3.11/dist-packages (from aiohttp->torch-geometric->libauc) (0.3.2)\n",
            "Requirement already satisfied: yarl<2.0,>=1.17.0 in /usr/local/lib/python3.11/dist-packages (from aiohttp->torch-geometric->libauc) (1.20.1)\n",
            "Requirement already satisfied: MarkupSafe>=2.0 in /usr/local/lib/python3.11/dist-packages (from jinja2->torch->libauc) (3.0.2)\n",
            "Requirement already satisfied: charset-normalizer<4,>=2 in /usr/local/lib/python3.11/dist-packages (from requests->torch-geometric->libauc) (3.4.2)\n",
            "Requirement already satisfied: idna<4,>=2.5 in /usr/local/lib/python3.11/dist-packages (from requests->torch-geometric->libauc) (3.10)\n",
            "Requirement already satisfied: certifi>=2017.4.17 in /usr/local/lib/python3.11/dist-packages (from requests->torch-geometric->libauc) (2025.6.15)\n",
            "Downloading libauc-1.4.0-py3-none-any.whl (130 kB)\n",
            "\u001b[2K   \u001b[90m━━━━━━━━━━━━━━━━━━━━━━━━━━━━━━━━━━━━━━━━\u001b[0m \u001b[32m130.8/130.8 kB\u001b[0m \u001b[31m7.1 MB/s\u001b[0m eta \u001b[36m0:00:00\u001b[0m\n",
            "\u001b[?25hDownloading ogb-1.3.6-py3-none-any.whl (78 kB)\n",
            "\u001b[2K   \u001b[90m━━━━━━━━━━━━━━━━━━━━━━━━━━━━━━━━━━━━━━━━\u001b[0m \u001b[32m78.8/78.8 kB\u001b[0m \u001b[31m5.3 MB/s\u001b[0m eta \u001b[36m0:00:00\u001b[0m\n",
            "\u001b[?25hDownloading nvidia_cublas_cu12-12.4.5.8-py3-none-manylinux2014_x86_64.whl (363.4 MB)\n",
            "\u001b[2K   \u001b[90m━━━━━━━━━━━━━━━━━━━━━━━━━━━━━━━━━━━━━━━━\u001b[0m \u001b[32m363.4/363.4 MB\u001b[0m \u001b[31m4.7 MB/s\u001b[0m eta \u001b[36m0:00:00\u001b[0m\n",
            "\u001b[?25hDownloading nvidia_cuda_cupti_cu12-12.4.127-py3-none-manylinux2014_x86_64.whl (13.8 MB)\n",
            "\u001b[2K   \u001b[90m━━━━━━━━━━━━━━━━━━━━━━━━━━━━━━━━━━━━━━━━\u001b[0m \u001b[32m13.8/13.8 MB\u001b[0m \u001b[31m93.3 MB/s\u001b[0m eta \u001b[36m0:00:00\u001b[0m\n",
            "\u001b[?25hDownloading nvidia_cuda_nvrtc_cu12-12.4.127-py3-none-manylinux2014_x86_64.whl (24.6 MB)\n",
            "\u001b[2K   \u001b[90m━━━━━━━━━━━━━━━━━━━━━━━━━━━━━━━━━━━━━━━━\u001b[0m \u001b[32m24.6/24.6 MB\u001b[0m \u001b[31m83.9 MB/s\u001b[0m eta \u001b[36m0:00:00\u001b[0m\n",
            "\u001b[?25hDownloading nvidia_cuda_runtime_cu12-12.4.127-py3-none-manylinux2014_x86_64.whl (883 kB)\n",
            "\u001b[2K   \u001b[90m━━━━━━━━━━━━━━━━━━━━━━━━━━━━━━━━━━━━━━━━\u001b[0m \u001b[32m883.7/883.7 kB\u001b[0m \u001b[31m43.1 MB/s\u001b[0m eta \u001b[36m0:00:00\u001b[0m\n",
            "\u001b[?25hDownloading nvidia_cudnn_cu12-9.1.0.70-py3-none-manylinux2014_x86_64.whl (664.8 MB)\n",
            "\u001b[2K   \u001b[90m━━━━━━━━━━━━━━━━━━━━━━━━━━━━━━━━━━━━━━━━\u001b[0m \u001b[32m664.8/664.8 MB\u001b[0m \u001b[31m2.8 MB/s\u001b[0m eta \u001b[36m0:00:00\u001b[0m\n",
            "\u001b[?25hDownloading nvidia_cufft_cu12-11.2.1.3-py3-none-manylinux2014_x86_64.whl (211.5 MB)\n",
            "\u001b[2K   \u001b[90m━━━━━━━━━━━━━━━━━━━━━━━━━━━━━━━━━━━━━━━━\u001b[0m \u001b[32m211.5/211.5 MB\u001b[0m \u001b[31m6.2 MB/s\u001b[0m eta \u001b[36m0:00:00\u001b[0m\n",
            "\u001b[?25hDownloading nvidia_curand_cu12-10.3.5.147-py3-none-manylinux2014_x86_64.whl (56.3 MB)\n",
            "\u001b[2K   \u001b[90m━━━━━━━━━━━━━━━━━━━━━━━━━━━━━━━━━━━━━━━━\u001b[0m \u001b[32m56.3/56.3 MB\u001b[0m \u001b[31m11.2 MB/s\u001b[0m eta \u001b[36m0:00:00\u001b[0m\n",
            "\u001b[?25hDownloading nvidia_cusolver_cu12-11.6.1.9-py3-none-manylinux2014_x86_64.whl (127.9 MB)\n",
            "\u001b[2K   \u001b[90m━━━━━━━━━━━━━━━━━━━━━━━━━━━━━━━━━━━━━━━━\u001b[0m \u001b[32m127.9/127.9 MB\u001b[0m \u001b[31m7.4 MB/s\u001b[0m eta \u001b[36m0:00:00\u001b[0m\n",
            "\u001b[?25hDownloading nvidia_cusparse_cu12-12.3.1.170-py3-none-manylinux2014_x86_64.whl (207.5 MB)\n",
            "\u001b[2K   \u001b[90m━━━━━━━━━━━━━━━━━━━━━━━━━━━━━━━━━━━━━━━━\u001b[0m \u001b[32m207.5/207.5 MB\u001b[0m \u001b[31m6.1 MB/s\u001b[0m eta \u001b[36m0:00:00\u001b[0m\n",
            "\u001b[?25hDownloading nvidia_nvjitlink_cu12-12.4.127-py3-none-manylinux2014_x86_64.whl (21.1 MB)\n",
            "\u001b[2K   \u001b[90m━━━━━━━━━━━━━━━━━━━━━━━━━━━━━━━━━━━━━━━━\u001b[0m \u001b[32m21.1/21.1 MB\u001b[0m \u001b[31m80.8 MB/s\u001b[0m eta \u001b[36m0:00:00\u001b[0m\n",
            "\u001b[?25hDownloading torch_geometric-2.6.1-py3-none-any.whl (1.1 MB)\n",
            "\u001b[2K   \u001b[90m━━━━━━━━━━━━━━━━━━━━━━━━━━━━━━━━━━━━━━━━\u001b[0m \u001b[32m1.1/1.1 MB\u001b[0m \u001b[31m59.1 MB/s\u001b[0m eta \u001b[36m0:00:00\u001b[0m\n",
            "\u001b[?25hDownloading webdataset-1.0.2-py3-none-any.whl (74 kB)\n",
            "\u001b[2K   \u001b[90m━━━━━━━━━━━━━━━━━━━━━━━━━━━━━━━━━━━━━━━━\u001b[0m \u001b[32m75.0/75.0 kB\u001b[0m \u001b[31m7.2 MB/s\u001b[0m eta \u001b[36m0:00:00\u001b[0m\n",
            "\u001b[?25hDownloading outdated-0.2.2-py2.py3-none-any.whl (7.5 kB)\n",
            "Downloading braceexpand-0.1.7-py2.py3-none-any.whl (5.9 kB)\n",
            "Downloading littleutils-0.2.4-py3-none-any.whl (8.1 kB)\n",
            "Installing collected packages: braceexpand, webdataset, nvidia-nvjitlink-cu12, nvidia-curand-cu12, nvidia-cufft-cu12, nvidia-cuda-runtime-cu12, nvidia-cuda-nvrtc-cu12, nvidia-cuda-cupti-cu12, nvidia-cublas-cu12, littleutils, outdated, nvidia-cusparse-cu12, nvidia-cudnn-cu12, torch-geometric, nvidia-cusolver-cu12, ogb, libauc\n",
            "  Attempting uninstall: nvidia-nvjitlink-cu12\n",
            "    Found existing installation: nvidia-nvjitlink-cu12 12.5.82\n",
            "    Uninstalling nvidia-nvjitlink-cu12-12.5.82:\n",
            "      Successfully uninstalled nvidia-nvjitlink-cu12-12.5.82\n",
            "  Attempting uninstall: nvidia-curand-cu12\n",
            "    Found existing installation: nvidia-curand-cu12 10.3.6.82\n",
            "    Uninstalling nvidia-curand-cu12-10.3.6.82:\n",
            "      Successfully uninstalled nvidia-curand-cu12-10.3.6.82\n",
            "  Attempting uninstall: nvidia-cufft-cu12\n",
            "    Found existing installation: nvidia-cufft-cu12 11.2.3.61\n",
            "    Uninstalling nvidia-cufft-cu12-11.2.3.61:\n",
            "      Successfully uninstalled nvidia-cufft-cu12-11.2.3.61\n",
            "  Attempting uninstall: nvidia-cuda-runtime-cu12\n",
            "    Found existing installation: nvidia-cuda-runtime-cu12 12.5.82\n",
            "    Uninstalling nvidia-cuda-runtime-cu12-12.5.82:\n",
            "      Successfully uninstalled nvidia-cuda-runtime-cu12-12.5.82\n",
            "  Attempting uninstall: nvidia-cuda-nvrtc-cu12\n",
            "    Found existing installation: nvidia-cuda-nvrtc-cu12 12.5.82\n",
            "    Uninstalling nvidia-cuda-nvrtc-cu12-12.5.82:\n",
            "      Successfully uninstalled nvidia-cuda-nvrtc-cu12-12.5.82\n",
            "  Attempting uninstall: nvidia-cuda-cupti-cu12\n",
            "    Found existing installation: nvidia-cuda-cupti-cu12 12.5.82\n",
            "    Uninstalling nvidia-cuda-cupti-cu12-12.5.82:\n",
            "      Successfully uninstalled nvidia-cuda-cupti-cu12-12.5.82\n",
            "  Attempting uninstall: nvidia-cublas-cu12\n",
            "    Found existing installation: nvidia-cublas-cu12 12.5.3.2\n",
            "    Uninstalling nvidia-cublas-cu12-12.5.3.2:\n",
            "      Successfully uninstalled nvidia-cublas-cu12-12.5.3.2\n",
            "  Attempting uninstall: nvidia-cusparse-cu12\n",
            "    Found existing installation: nvidia-cusparse-cu12 12.5.1.3\n",
            "    Uninstalling nvidia-cusparse-cu12-12.5.1.3:\n",
            "      Successfully uninstalled nvidia-cusparse-cu12-12.5.1.3\n",
            "  Attempting uninstall: nvidia-cudnn-cu12\n",
            "    Found existing installation: nvidia-cudnn-cu12 9.3.0.75\n",
            "    Uninstalling nvidia-cudnn-cu12-9.3.0.75:\n",
            "      Successfully uninstalled nvidia-cudnn-cu12-9.3.0.75\n",
            "  Attempting uninstall: nvidia-cusolver-cu12\n",
            "    Found existing installation: nvidia-cusolver-cu12 11.6.3.83\n",
            "    Uninstalling nvidia-cusolver-cu12-11.6.3.83:\n",
            "      Successfully uninstalled nvidia-cusolver-cu12-11.6.3.83\n",
            "Successfully installed braceexpand-0.1.7 libauc-1.4.0 littleutils-0.2.4 nvidia-cublas-cu12-12.4.5.8 nvidia-cuda-cupti-cu12-12.4.127 nvidia-cuda-nvrtc-cu12-12.4.127 nvidia-cuda-runtime-cu12-12.4.127 nvidia-cudnn-cu12-9.1.0.70 nvidia-cufft-cu12-11.2.1.3 nvidia-curand-cu12-10.3.5.147 nvidia-cusolver-cu12-11.6.1.9 nvidia-cusparse-cu12-12.3.1.170 nvidia-nvjitlink-cu12-12.4.127 ogb-1.3.6 outdated-0.2.2 torch-geometric-2.6.1 webdataset-1.0.2\n"
          ]
        }
      ]
    },
    {
      "cell_type": "code",
      "source": [
        "# import required libraries\n",
        "import numpy as np\n",
        "import torch\n",
        "import torchvision.transforms as transforms\n",
        "from PIL import Image\n",
        "from torch.utils.data import Dataset\n",
        "from libauc.datasets import CIFAR10\n",
        "from libauc.utils import ImbalancedDataGenerator\n",
        "from libauc.sampler import DualSampler\n",
        "\n",
        "# set seed and device\n",
        "def set_all_seeds(seed):\n",
        "    np.random.seed(seed)\n",
        "    torch.manual_seed(seed)\n",
        "    torch.cuda.manual_seed(seed)\n",
        "    torch.backends.cudnn.deterministic = True\n",
        "    torch.backends.cudnn.benchmark = False\n",
        "\n",
        "set_all_seeds(2023)\n",
        "device = torch.device(\"cuda\" if torch.cuda.is_available() else \"cpu\")\n"
      ],
      "metadata": {
        "id": "-S6czGePm53G"
      },
      "execution_count": 2,
      "outputs": []
    },
    {
      "cell_type": "code",
      "source": [
        "# dataset class with augmentation\n",
        "class ImageDataset(Dataset):\n",
        "    def __init__(self, images, targets, image_size=32, crop_size=30, mode='train'):\n",
        "        self.images = images.astype(np.uint8)\n",
        "        self.targets = targets\n",
        "        self.mode = mode\n",
        "        self.transform_train = transforms.Compose([\n",
        "            transforms.ToTensor(),\n",
        "            transforms.RandomCrop((crop_size, crop_size)),\n",
        "            transforms.RandomHorizontalFlip(),\n",
        "            transforms.Resize((image_size, image_size))\n",
        "        ])\n",
        "        self.transform_test = transforms.Compose([\n",
        "            transforms.ToTensor(),\n",
        "            transforms.Resize((image_size, image_size))\n",
        "        ])\n",
        "    def __len__(self):\n",
        "        return len(self.images)\n",
        "    def __getitem__(self, idx):\n",
        "        image = Image.fromarray(self.images[idx])\n",
        "        if self.mode == 'train':\n",
        "            image = self.transform_train(image)\n",
        "        else:\n",
        "            image = self.transform_test(image)\n",
        "        return image, self.targets[idx], idx\n"
      ],
      "metadata": {
        "id": "wVo74i6_ncvC"
      },
      "execution_count": 3,
      "outputs": []
    },
    {
      "cell_type": "code",
      "source": [
        "# load and imbalance cifar10\n",
        "train_data, train_targets = CIFAR10(root='./data', train=True).as_array()\n",
        "test_data, test_targets  = CIFAR10(root='./data', train=False).as_array()\n",
        "\n",
        "generator = ImbalancedDataGenerator(verbose=True, random_seed=2023)\n",
        "train_images, train_labels = generator.transform(train_data, train_targets, imratio=0.02)\n",
        "test_images, test_labels = generator.transform(test_data, test_targets, imratio=0.5)\n",
        "\n",
        "trainSet = ImageDataset(train_images, train_labels)\n",
        "trainSet_eval = ImageDataset(train_images, train_labels, mode='test')\n",
        "testSet = ImageDataset(test_images, test_labels, mode='test')\n",
        "\n"
      ],
      "metadata": {
        "colab": {
          "base_uri": "https://localhost:8080/"
        },
        "id": "LM9-zLN2nicq",
        "outputId": "73050620-3fd1-4205-e0bb-bf0199a8f5fa"
      },
      "execution_count": 4,
      "outputs": [
        {
          "output_type": "stream",
          "name": "stderr",
          "text": [
            "100%|██████████| 170M/170M [00:03<00:00, 45.7MB/s]\n"
          ]
        },
        {
          "output_type": "stream",
          "name": "stdout",
          "text": [
            "Files already downloaded and verified\n",
            "#SAMPLES: 25510, CLASS 0.0 COUNT: 25000, CLASS RATIO: 0.9800\n",
            "#SAMPLES: 25510, CLASS 1.0 COUNT: 510, CLASS RATIO: 0.0200\n",
            "#SAMPLES: 10000, CLASS 0.0 COUNT: 5000, CLASS RATIO: 0.5000\n",
            "#SAMPLES: 10000, CLASS 1.0 COUNT: 5000, CLASS RATIO: 0.5000\n"
          ]
        }
      ]
    },
    {
      "cell_type": "code",
      "source": [
        "from libauc.models import resnet20 as ResNet\n",
        "from libauc.losses import AUCMLoss\n",
        "from libauc.optimizers import PESG\n",
        "from libauc.metrics import auc_roc_score\n",
        "\n",
        "BATCH_SIZE = 128\n",
        "lr = 0.1\n",
        "margin = 1.0\n",
        "epoch_decay = 0.003\n",
        "weight_decay = 1e-4\n",
        "total_epochs = 30\n",
        "decay_epochs = [15, 25]\n",
        "\n",
        "model = ResNet(pretrained=False, last_activation=None, num_classes=1).to(device)\n",
        "loss_fn = AUCMLoss()\n",
        "optimizer = PESG(model.parameters(), loss_fn=loss_fn, lr=lr,\n",
        "                 margin=margin, epoch_decay=epoch_decay, weight_decay=weight_decay)\n",
        "\n",
        "sampler = DualSampler(trainSet, BATCH_SIZE, sampling_rate=0.2)\n",
        "trainloader = torch.utils.data.DataLoader(trainSet, batch_size=BATCH_SIZE, sampler=sampler)\n",
        "testloader = torch.utils.data.DataLoader(testSet, batch_size=BATCH_SIZE, shuffle=False)"
      ],
      "metadata": {
        "id": "igvo2o36n4d-"
      },
      "execution_count": 5,
      "outputs": []
    },
    {
      "cell_type": "code",
      "source": [
        "# train and evaluate auroc\n",
        "for epoch in range(total_epochs):\n",
        "    if epoch in decay_epochs:\n",
        "        optimizer.update_regularizer(decay_factor=10)\n",
        "\n",
        "    model.train()\n",
        "    for data, targets, _ in trainloader:\n",
        "        data, targets = data.to(device), targets.to(device)\n",
        "        y_pred = torch.sigmoid(model(data))\n",
        "        loss = loss_fn(y_pred, targets)\n",
        "        optimizer.zero_grad()\n",
        "        loss.backward()\n",
        "        optimizer.step()\n",
        "\n",
        "    model.eval()\n",
        "    preds, labels = [], []\n",
        "    with torch.no_grad():\n",
        "        for data, targets, _ in testloader:\n",
        "            data = data.to(device)\n",
        "            out = torch.sigmoid(model(data))\n",
        "            preds.append(out.cpu().numpy())\n",
        "            labels.append(targets.numpy())\n",
        "    auc = auc_roc_score(np.concatenate(labels), np.concatenate(preds))\n",
        "    print(f\"[Epoch {epoch}] AUROC: {auc:.4f}\")"
      ],
      "metadata": {
        "colab": {
          "base_uri": "https://localhost:8080/"
        },
        "id": "Sjsvc2CuoCLM",
        "outputId": "281504bf-9bc3-45fc-b744-b41665b0857d"
      },
      "execution_count": 6,
      "outputs": [
        {
          "output_type": "stream",
          "name": "stdout",
          "text": [
            "[Epoch 0] AUROC: 0.5994\n",
            "[Epoch 1] AUROC: 0.6946\n",
            "[Epoch 2] AUROC: 0.6841\n",
            "[Epoch 3] AUROC: 0.6595\n",
            "[Epoch 4] AUROC: 0.7097\n",
            "[Epoch 5] AUROC: 0.7033\n",
            "[Epoch 6] AUROC: 0.7195\n",
            "[Epoch 7] AUROC: 0.7316\n",
            "[Epoch 8] AUROC: 0.7266\n",
            "[Epoch 9] AUROC: 0.7129\n",
            "[Epoch 10] AUROC: 0.6990\n",
            "[Epoch 11] AUROC: 0.7205\n",
            "[Epoch 12] AUROC: 0.7156\n",
            "[Epoch 13] AUROC: 0.7090\n",
            "[Epoch 14] AUROC: 0.7350\n",
            "Reducing learning rate to 0.01000 @ T=3630!\n",
            "Updating regularizer @ T=3630!\n",
            "[Epoch 15] AUROC: 0.7669\n",
            "[Epoch 16] AUROC: 0.7639\n",
            "[Epoch 17] AUROC: 0.7635\n",
            "[Epoch 18] AUROC: 0.7597\n",
            "[Epoch 19] AUROC: 0.7607\n",
            "[Epoch 20] AUROC: 0.7555\n",
            "[Epoch 21] AUROC: 0.7580\n",
            "[Epoch 22] AUROC: 0.7569\n",
            "[Epoch 23] AUROC: 0.7542\n",
            "[Epoch 24] AUROC: 0.7534\n",
            "Reducing learning rate to 0.00100 @ T=6050!\n",
            "Updating regularizer @ T=6050!\n",
            "[Epoch 25] AUROC: 0.7531\n",
            "[Epoch 26] AUROC: 0.7539\n",
            "[Epoch 27] AUROC: 0.7531\n",
            "[Epoch 28] AUROC: 0.7529\n",
            "[Epoch 29] AUROC: 0.7523\n"
          ]
        }
      ]
    },
    {
      "cell_type": "code",
      "source": [
        "# Experiment 2: Optimize AUPRC using APLoss + SOAP"
      ],
      "metadata": {
        "id": "Mo5_3rbXruXa"
      },
      "execution_count": 7,
      "outputs": []
    },
    {
      "cell_type": "code",
      "source": [
        "from libauc.models import resnet18 as ResNet\n",
        "from libauc.losses import APLoss\n",
        "from libauc.optimizers import SOAP\n",
        "from libauc.metrics import auc_prc_score\n",
        "\n",
        "BATCH_SIZE = 64\n",
        "lr = 1e-3\n",
        "margin = 0.6\n",
        "gamma = 0.1\n",
        "weight_decay = 2e-4\n",
        "total_epochs = 30\n",
        "decay_epochs = [15, 25]\n",
        "\n",
        "model = ResNet(pretrained=False, last_activation=None, num_classes=1).to(device)\n",
        "loss_fn = APLoss(data_len=len(trainSet), margin=margin, gamma=gamma)\n",
        "optimizer = SOAP(model.parameters(), lr=lr, mode='adam', weight_decay=weight_decay)\n",
        "\n",
        "sampler = DualSampler(trainSet, BATCH_SIZE, sampling_rate=0.5)\n",
        "trainloader = torch.utils.data.DataLoader(trainSet, batch_size=BATCH_SIZE, sampler=sampler)\n",
        "testloader = torch.utils.data.DataLoader(testSet, batch_size=BATCH_SIZE, shuffle=False)"
      ],
      "metadata": {
        "id": "SHgLHv-Nu0Az"
      },
      "execution_count": 8,
      "outputs": []
    },
    {
      "cell_type": "code",
      "source": [
        "# train and evaluate auprc\n",
        "for epoch in range(total_epochs):\n",
        "    if epoch in decay_epochs:\n",
        "        optimizer.update_lr(decay_factor=10)\n",
        "\n",
        "    model.train()\n",
        "    for data, targets, idx in trainloader:\n",
        "        data, targets, idx = data.to(device), targets.to(device), idx.to(device)\n",
        "        y_prob = torch.sigmoid(model(data))\n",
        "        loss = loss_fn(y_prob, targets, idx)\n",
        "        optimizer.zero_grad()\n",
        "        loss.backward()\n",
        "        optimizer.step()\n",
        "\n",
        "    model.eval()\n",
        "    preds, labels = [], []\n",
        "    with torch.no_grad():\n",
        "        for data, targets, _ in testloader:\n",
        "            data = data.to(device)\n",
        "            out = torch.sigmoid(model(data))\n",
        "            preds.append(out.cpu().numpy())\n",
        "            labels.append(targets.numpy())\n",
        "    ap = auc_prc_score(np.concatenate(labels), np.concatenate(preds))\n",
        "    print(f\"[Epoch {epoch}] AUPRC: {ap:.4f}\")\n",
        "\n"
      ],
      "metadata": {
        "colab": {
          "base_uri": "https://localhost:8080/"
        },
        "id": "K_log1_QxfCr",
        "outputId": "58e5f6a9-c2b2-4f8a-ef62-abea524d0831"
      },
      "execution_count": 9,
      "outputs": [
        {
          "output_type": "stream",
          "name": "stdout",
          "text": [
            "[Epoch 0] AUPRC: 0.6697\n",
            "[Epoch 1] AUPRC: 0.6896\n",
            "[Epoch 2] AUPRC: 0.7179\n",
            "[Epoch 3] AUPRC: 0.7335\n",
            "[Epoch 4] AUPRC: 0.7250\n",
            "[Epoch 5] AUPRC: 0.6994\n",
            "[Epoch 6] AUPRC: 0.7340\n",
            "[Epoch 7] AUPRC: 0.7343\n",
            "[Epoch 8] AUPRC: 0.7304\n",
            "[Epoch 9] AUPRC: 0.7303\n",
            "[Epoch 10] AUPRC: 0.7211\n",
            "[Epoch 11] AUPRC: 0.7189\n",
            "[Epoch 12] AUPRC: 0.7230\n",
            "[Epoch 13] AUPRC: 0.6760\n",
            "[Epoch 14] AUPRC: 0.7208\n",
            "Reducing learning rate to 0.00010 @ T=11715!\n",
            "[Epoch 15] AUPRC: 0.7343\n",
            "[Epoch 16] AUPRC: 0.7256\n",
            "[Epoch 17] AUPRC: 0.7299\n",
            "[Epoch 18] AUPRC: 0.7169\n",
            "[Epoch 19] AUPRC: 0.7164\n",
            "[Epoch 20] AUPRC: 0.7198\n",
            "[Epoch 21] AUPRC: 0.6604\n",
            "[Epoch 22] AUPRC: 0.6700\n",
            "[Epoch 23] AUPRC: 0.6995\n",
            "[Epoch 24] AUPRC: 0.7013\n",
            "Reducing learning rate to 0.00001 @ T=19525!\n",
            "[Epoch 25] AUPRC: 0.7007\n",
            "[Epoch 26] AUPRC: 0.6958\n",
            "[Epoch 27] AUPRC: 0.6918\n",
            "[Epoch 28] AUPRC: 0.6937\n",
            "[Epoch 29] AUPRC: 0.6843\n"
          ]
        }
      ]
    },
    {
      "cell_type": "code",
      "source": [
        "# 🔬 Experiment 3: Combine AUROC + AUPRC with r-weighted loss"
      ],
      "metadata": {
        "id": "gqcqf6S9zyN5"
      },
      "execution_count": 10,
      "outputs": []
    },
    {
      "cell_type": "code",
      "source": [
        "from libauc.losses import AUCMLoss, APLoss\n",
        "from torch.optim import Adam\n",
        "\n",
        "r = 0.5  # try 0.2, 0.5, 0.8\n",
        "model = ResNet(pretrained=False, last_activation=None, num_classes=1).to(device)\n",
        "loss_ap = APLoss(data_len=len(trainSet), margin=0.6, gamma=0.1)\n",
        "loss_auc = AUCMLoss()\n",
        "optimizer = Adam(model.parameters(), lr=1e-3, weight_decay=1e-4)\n",
        "\n",
        "trainloader = torch.utils.data.DataLoader(trainSet, batch_size=64, shuffle=True)\n",
        "testloader = torch.utils.data.DataLoader(testSet, batch_size=64, shuffle=False)"
      ],
      "metadata": {
        "id": "pWgYyQsdWuAp"
      },
      "execution_count": 11,
      "outputs": []
    },
    {
      "cell_type": "code",
      "source": [
        "# train and evaluate combined loss\n",
        "for epoch in range(30):\n",
        "    model.train()\n",
        "    for data, targets, idx in trainloader:\n",
        "        data, targets, idx = data.to(device), targets.to(device), idx.to(device)\n",
        "\n",
        "        # check if batch has at least one positive sample\n",
        "        if (targets == 1).sum() == 0:\n",
        "            continue  # skip this batch\n",
        "\n",
        "        out = torch.sigmoid(model(data))\n",
        "        loss = r * loss_ap(out, targets, idx) + (1 - r) * loss_auc(out, targets)\n",
        "        optimizer.zero_grad()\n",
        "        loss.backward()\n",
        "        optimizer.step()\n",
        "\n",
        "    model.eval()\n",
        "    preds, labels = [], []\n",
        "    with torch.no_grad():\n",
        "        for data, targets, _ in testloader:\n",
        "            data = data.to(device)\n",
        "            out = torch.sigmoid(model(data))\n",
        "            preds.append(out.cpu().numpy())\n",
        "            labels.append(targets.numpy())\n",
        "    ap = auc_prc_score(np.concatenate(labels), np.concatenate(preds))\n",
        "    print(f\"[Epoch {epoch}] Combined AUPRC: {ap:.4f} (r={r})\")\n"
      ],
      "metadata": {
        "colab": {
          "base_uri": "https://localhost:8080/"
        },
        "id": "x2w-jXxhWwiK",
        "outputId": "a87673b9-68d9-446c-8e80-4312d0fb4da4"
      },
      "execution_count": 13,
      "outputs": [
        {
          "output_type": "stream",
          "name": "stdout",
          "text": [
            "[Epoch 0] Combined AUPRC: 0.4798 (r=0.5)\n",
            "[Epoch 1] Combined AUPRC: 0.5280 (r=0.5)\n",
            "[Epoch 2] Combined AUPRC: 0.5869 (r=0.5)\n",
            "[Epoch 3] Combined AUPRC: 0.6093 (r=0.5)\n",
            "[Epoch 4] Combined AUPRC: 0.6061 (r=0.5)\n",
            "[Epoch 5] Combined AUPRC: 0.6159 (r=0.5)\n",
            "[Epoch 6] Combined AUPRC: 0.6249 (r=0.5)\n",
            "[Epoch 7] Combined AUPRC: 0.6225 (r=0.5)\n",
            "[Epoch 8] Combined AUPRC: 0.6330 (r=0.5)\n",
            "[Epoch 9] Combined AUPRC: 0.6364 (r=0.5)\n",
            "[Epoch 10] Combined AUPRC: 0.6397 (r=0.5)\n",
            "[Epoch 11] Combined AUPRC: 0.6299 (r=0.5)\n",
            "[Epoch 12] Combined AUPRC: 0.6421 (r=0.5)\n",
            "[Epoch 13] Combined AUPRC: 0.6258 (r=0.5)\n",
            "[Epoch 14] Combined AUPRC: 0.6387 (r=0.5)\n",
            "[Epoch 15] Combined AUPRC: 0.6268 (r=0.5)\n",
            "[Epoch 16] Combined AUPRC: 0.6389 (r=0.5)\n",
            "[Epoch 17] Combined AUPRC: 0.6381 (r=0.5)\n",
            "[Epoch 18] Combined AUPRC: 0.6384 (r=0.5)\n",
            "[Epoch 19] Combined AUPRC: 0.6290 (r=0.5)\n",
            "[Epoch 20] Combined AUPRC: 0.6168 (r=0.5)\n",
            "[Epoch 21] Combined AUPRC: 0.6424 (r=0.5)\n",
            "[Epoch 22] Combined AUPRC: 0.6336 (r=0.5)\n",
            "[Epoch 23] Combined AUPRC: 0.6435 (r=0.5)\n",
            "[Epoch 24] Combined AUPRC: 0.6277 (r=0.5)\n",
            "[Epoch 25] Combined AUPRC: 0.6385 (r=0.5)\n",
            "[Epoch 26] Combined AUPRC: 0.6259 (r=0.5)\n",
            "[Epoch 27] Combined AUPRC: 0.6313 (r=0.5)\n",
            "[Epoch 28] Combined AUPRC: 0.6484 (r=0.5)\n",
            "[Epoch 29] Combined AUPRC: 0.6407 (r=0.5)\n"
          ]
        }
      ]
    },
    {
      "cell_type": "code",
      "source": [],
      "metadata": {
        "id": "USgqmEkeVRdE"
      },
      "execution_count": null,
      "outputs": []
    }
  ]
}